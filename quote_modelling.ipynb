{
 "cells": [
  {
   "cell_type": "markdown",
   "metadata": {},
   "source": [
    "In this notebook, I aim to answer:\n",
    "\n",
    "- Data exploration – What are the most interesting features of the data set? What have you considered and why have you made the decisions you have done?\n",
    "- Modelling – What process did you follow when modelling sales?  How have you designed your model and what did you account for?\n",
    "- Conclusions – What are your main findings? How might you use those insights, or your model, to improve Hastings’ pricing? What else would it have been useful to know?"
   ]
  },
  {
   "cell_type": "markdown",
   "metadata": {},
   "source": [
    "Useful notes: https://machinelearningmastery.com/stacking-ensemble-machine-learning-with-python/"
   ]
  },
  {
   "cell_type": "code",
   "execution_count": 35,
   "metadata": {},
   "outputs": [],
   "source": [
    "import pandas as pd\n",
    "import numpy as np\n",
    "# import matplotlib.pyplot as plt\n",
    "from sklearn.model_selection import train_test_split\n",
    "from sklearn.metrics import accuracy_score\n",
    "# from sklearn.metrics import confusion_matrix, accuracy_score\n",
    "from sklearn.linear_model import LogisticRegression\n",
    "from sklearn.preprocessing import StandardScaler\n",
    "from sklearn import metrics\n",
    "from sklearn.metrics import f1_score\n",
    "# from sklearn.tree import DecisionTreeClassifier\n",
    "from sklearn.ensemble import RandomForestClassifier\n",
    "from xgboost import XGBClassifier\n",
    "from numpy import mean, std\n",
    "# from numpy import std\n",
    "# from sklearn.datasets import make_classification\n",
    "from sklearn.model_selection import cross_val_score\n",
    "from sklearn.model_selection import RepeatedStratifiedKFold\n",
    "# from sklearn.linear_model import LogisticRegression\n",
    "# from sklearn.neighbors import KNeighborsClassifier\n",
    "# from sklearn.tree import DecisionTreeClassifier\n",
    "# from sklearn.svm import SVC\n",
    "# from sklearn.naive_bayes import GaussianNB\n",
    "from sklearn.ensemble import StackingClassifier\n",
    "from matplotlib import pyplot\n",
    "from lightgbm import LGBMClassifier\n",
    "# plt.rcParams[\"figure.figsize\"] = (10,10)"
   ]
  },
  {
   "cell_type": "code",
   "execution_count": 2,
   "metadata": {},
   "outputs": [
    {
     "data": {
      "text/html": [
       "<div>\n",
       "<style scoped>\n",
       "    .dataframe tbody tr th:only-of-type {\n",
       "        vertical-align: middle;\n",
       "    }\n",
       "\n",
       "    .dataframe tbody tr th {\n",
       "        vertical-align: top;\n",
       "    }\n",
       "\n",
       "    .dataframe thead th {\n",
       "        text-align: right;\n",
       "    }\n",
       "</style>\n",
       "<table border=\"1\" class=\"dataframe\">\n",
       "  <thead>\n",
       "    <tr style=\"text-align: right;\">\n",
       "      <th></th>\n",
       "      <th>Driver_Age</th>\n",
       "      <th>Vehicle_Value</th>\n",
       "      <th>Tax</th>\n",
       "      <th>Price</th>\n",
       "      <th>Vehicle_Mileage</th>\n",
       "      <th>Credit_Score</th>\n",
       "      <th>Licence_Length_Years</th>\n",
       "      <th>Date</th>\n",
       "      <th>Marital_Status</th>\n",
       "      <th>Sale</th>\n",
       "    </tr>\n",
       "  </thead>\n",
       "  <tbody>\n",
       "    <tr>\n",
       "      <th>0</th>\n",
       "      <td>48.0</td>\n",
       "      <td>7000.0</td>\n",
       "      <td>41.961971</td>\n",
       "      <td>419.619709</td>\n",
       "      <td>7000.0</td>\n",
       "      <td>366.105677</td>\n",
       "      <td>8.711803</td>\n",
       "      <td>29/05/2016</td>\n",
       "      <td>M</td>\n",
       "      <td>0</td>\n",
       "    </tr>\n",
       "    <tr>\n",
       "      <th>1</th>\n",
       "      <td>32.0</td>\n",
       "      <td>8000.0</td>\n",
       "      <td>53.448931</td>\n",
       "      <td>534.489312</td>\n",
       "      <td>6000.0</td>\n",
       "      <td>306.560408</td>\n",
       "      <td>8.754815</td>\n",
       "      <td>03/07/2015</td>\n",
       "      <td>S</td>\n",
       "      <td>0</td>\n",
       "    </tr>\n",
       "    <tr>\n",
       "      <th>2</th>\n",
       "      <td>32.0</td>\n",
       "      <td>7000.0</td>\n",
       "      <td>48.042838</td>\n",
       "      <td>480.428376</td>\n",
       "      <td>6000.0</td>\n",
       "      <td>430.070380</td>\n",
       "      <td>6.942515</td>\n",
       "      <td>04/10/2015</td>\n",
       "      <td>M</td>\n",
       "      <td>0</td>\n",
       "    </tr>\n",
       "  </tbody>\n",
       "</table>\n",
       "</div>"
      ],
      "text/plain": [
       "   Driver_Age  Vehicle_Value        Tax       Price  Vehicle_Mileage  \\\n",
       "0        48.0         7000.0  41.961971  419.619709           7000.0   \n",
       "1        32.0         8000.0  53.448931  534.489312           6000.0   \n",
       "2        32.0         7000.0  48.042838  480.428376           6000.0   \n",
       "\n",
       "   Credit_Score  Licence_Length_Years        Date Marital_Status  Sale  \n",
       "0    366.105677              8.711803  29/05/2016              M     0  \n",
       "1    306.560408              8.754815  03/07/2015              S     0  \n",
       "2    430.070380              6.942515  04/10/2015              M     0  "
      ]
     },
     "metadata": {},
     "output_type": "display_data"
    }
   ],
   "source": [
    "df=pd.read_csv('data/data.csv')\n",
    "display(df.head(3))\n",
    "\n",
    "# add id col and exposure\n",
    "df['row_num'] = np.arange(len(df))\n",
    "df['Exposure'] = 1"
   ]
  },
  {
   "cell_type": "markdown",
   "metadata": {},
   "source": [
    "# Data Partitioning"
   ]
  },
  {
   "cell_type": "code",
   "execution_count": 3,
   "metadata": {},
   "outputs": [],
   "source": [
    "# define training / validation \n",
    "# .drop(['Sale'], axis=1)\n",
    "training_df, validation_df, response_training_df, response_validation_df = train_test_split(df, df['Sale'], test_size=0.2, random_state=1)"
   ]
  },
  {
   "cell_type": "code",
   "execution_count": 4,
   "metadata": {},
   "outputs": [
    {
     "name": "stdout",
     "output_type": "stream",
     "text": [
      "Dataset Null Accuracy Score: 0.30202\n",
      "Training Null Accuracy Score: 0.299975\n",
      "Test Null Accuracy Score: 0.3102\n"
     ]
    }
   ],
   "source": [
    "# Null Accuracy Score in dataset, training and test\n",
    "lst = [0] * len(df['Sale'])\n",
    "print('Dataset Null Accuracy Score:', accuracy_score(df['Sale'],pd.Series(lst)))\n",
    "\n",
    "lst = [0] * len(response_training_df)\n",
    "print(f'Training Null Accuracy Score: {accuracy_score(response_training_df, pd.Series(lst))}')\n",
    "\n",
    "lst = [0] * len(response_validation_df)\n",
    "print(f'Test Null Accuracy Score: {accuracy_score(response_validation_df, pd.Series(lst))}')"
   ]
  },
  {
   "cell_type": "markdown",
   "metadata": {},
   "source": [
    "# EDA"
   ]
  },
  {
   "cell_type": "code",
   "execution_count": 5,
   "metadata": {},
   "outputs": [
    {
     "name": "stdout",
     "output_type": "stream",
     "text": [
      "(50000, 12)\n",
      "(50000, 12)\n"
     ]
    }
   ],
   "source": [
    "# duplicates\n",
    "print(df.shape)\n",
    "print(df.drop_duplicates().shape)"
   ]
  },
  {
   "cell_type": "code",
   "execution_count": 6,
   "metadata": {},
   "outputs": [],
   "source": [
    "# constant cols when sale=1 or 0"
   ]
  },
  {
   "cell_type": "code",
   "execution_count": 7,
   "metadata": {},
   "outputs": [
    {
     "data": {
      "text/html": [
       "<div>\n",
       "<style scoped>\n",
       "    .dataframe tbody tr th:only-of-type {\n",
       "        vertical-align: middle;\n",
       "    }\n",
       "\n",
       "    .dataframe tbody tr th {\n",
       "        vertical-align: top;\n",
       "    }\n",
       "\n",
       "    .dataframe thead th {\n",
       "        text-align: right;\n",
       "    }\n",
       "</style>\n",
       "<table border=\"1\" class=\"dataframe\">\n",
       "  <thead>\n",
       "    <tr style=\"text-align: right;\">\n",
       "      <th></th>\n",
       "      <th>column_name</th>\n",
       "      <th>percent_missing</th>\n",
       "      <th>number_missing</th>\n",
       "    </tr>\n",
       "  </thead>\n",
       "  <tbody>\n",
       "    <tr>\n",
       "      <th>Driver_Age</th>\n",
       "      <td>Driver_Age</td>\n",
       "      <td>0.988</td>\n",
       "      <td>494</td>\n",
       "    </tr>\n",
       "    <tr>\n",
       "      <th>Vehicle_Value</th>\n",
       "      <td>Vehicle_Value</td>\n",
       "      <td>1.018</td>\n",
       "      <td>509</td>\n",
       "    </tr>\n",
       "    <tr>\n",
       "      <th>Tax</th>\n",
       "      <td>Tax</td>\n",
       "      <td>0.962</td>\n",
       "      <td>481</td>\n",
       "    </tr>\n",
       "    <tr>\n",
       "      <th>Price</th>\n",
       "      <td>Price</td>\n",
       "      <td>0.992</td>\n",
       "      <td>496</td>\n",
       "    </tr>\n",
       "    <tr>\n",
       "      <th>Vehicle_Mileage</th>\n",
       "      <td>Vehicle_Mileage</td>\n",
       "      <td>1.072</td>\n",
       "      <td>536</td>\n",
       "    </tr>\n",
       "    <tr>\n",
       "      <th>Credit_Score</th>\n",
       "      <td>Credit_Score</td>\n",
       "      <td>1.044</td>\n",
       "      <td>522</td>\n",
       "    </tr>\n",
       "    <tr>\n",
       "      <th>Licence_Length_Years</th>\n",
       "      <td>Licence_Length_Years</td>\n",
       "      <td>0.984</td>\n",
       "      <td>492</td>\n",
       "    </tr>\n",
       "    <tr>\n",
       "      <th>Date</th>\n",
       "      <td>Date</td>\n",
       "      <td>0.000</td>\n",
       "      <td>0</td>\n",
       "    </tr>\n",
       "    <tr>\n",
       "      <th>Marital_Status</th>\n",
       "      <td>Marital_Status</td>\n",
       "      <td>0.976</td>\n",
       "      <td>488</td>\n",
       "    </tr>\n",
       "    <tr>\n",
       "      <th>Sale</th>\n",
       "      <td>Sale</td>\n",
       "      <td>0.000</td>\n",
       "      <td>0</td>\n",
       "    </tr>\n",
       "    <tr>\n",
       "      <th>row_num</th>\n",
       "      <td>row_num</td>\n",
       "      <td>0.000</td>\n",
       "      <td>0</td>\n",
       "    </tr>\n",
       "    <tr>\n",
       "      <th>Exposure</th>\n",
       "      <td>Exposure</td>\n",
       "      <td>0.000</td>\n",
       "      <td>0</td>\n",
       "    </tr>\n",
       "  </tbody>\n",
       "</table>\n",
       "</div>"
      ],
      "text/plain": [
       "                               column_name  percent_missing  number_missing\n",
       "Driver_Age                      Driver_Age            0.988             494\n",
       "Vehicle_Value                Vehicle_Value            1.018             509\n",
       "Tax                                    Tax            0.962             481\n",
       "Price                                Price            0.992             496\n",
       "Vehicle_Mileage            Vehicle_Mileage            1.072             536\n",
       "Credit_Score                  Credit_Score            1.044             522\n",
       "Licence_Length_Years  Licence_Length_Years            0.984             492\n",
       "Date                                  Date            0.000               0\n",
       "Marital_Status              Marital_Status            0.976             488\n",
       "Sale                                  Sale            0.000               0\n",
       "row_num                            row_num            0.000               0\n",
       "Exposure                          Exposure            0.000               0"
      ]
     },
     "metadata": {},
     "output_type": "display_data"
    }
   ],
   "source": [
    "# missing\n",
    "percent_missing = df.isnull().sum() * 100 / len(df)\n",
    "number_missing = df.isnull().sum()\n",
    "missing_value_df = pd.DataFrame({'column_name': df.columns,\n",
    "                                 'percent_missing': percent_missing,\n",
    "                                 'number_missing':number_missing})\n",
    "\n",
    "display(missing_value_df)"
   ]
  },
  {
   "cell_type": "code",
   "execution_count": 8,
   "metadata": {},
   "outputs": [
    {
     "name": "stderr",
     "output_type": "stream",
     "text": [
      "/Library/Frameworks/Python.framework/Versions/3.7/lib/python3.7/site-packages/ipykernel_launcher.py:12: SettingWithCopyWarning: \n",
      "A value is trying to be set on a copy of a slice from a DataFrame.\n",
      "Try using .loc[row_indexer,col_indexer] = value instead\n",
      "\n",
      "See the caveats in the documentation: http://pandas.pydata.org/pandas-docs/stable/indexing.html#indexing-view-versus-copy\n",
      "  if sys.path[0] == '':\n",
      "/Library/Frameworks/Python.framework/Versions/3.7/lib/python3.7/site-packages/ipykernel_launcher.py:13: SettingWithCopyWarning: \n",
      "A value is trying to be set on a copy of a slice from a DataFrame.\n",
      "Try using .loc[row_indexer,col_indexer] = value instead\n",
      "\n",
      "See the caveats in the documentation: http://pandas.pydata.org/pandas-docs/stable/indexing.html#indexing-view-versus-copy\n",
      "  del sys.path[0]\n",
      "/Library/Frameworks/Python.framework/Versions/3.7/lib/python3.7/site-packages/ipykernel_launcher.py:19: SettingWithCopyWarning: \n",
      "A value is trying to be set on a copy of a slice from a DataFrame.\n",
      "Try using .loc[row_indexer,col_indexer] = value instead\n",
      "\n",
      "See the caveats in the documentation: http://pandas.pydata.org/pandas-docs/stable/indexing.html#indexing-view-versus-copy\n",
      "/Library/Frameworks/Python.framework/Versions/3.7/lib/python3.7/site-packages/ipykernel_launcher.py:20: SettingWithCopyWarning: \n",
      "A value is trying to be set on a copy of a slice from a DataFrame.\n",
      "Try using .loc[row_indexer,col_indexer] = value instead\n",
      "\n",
      "See the caveats in the documentation: http://pandas.pydata.org/pandas-docs/stable/indexing.html#indexing-view-versus-copy\n"
     ]
    }
   ],
   "source": [
    "# missing values\n",
    "\n",
    "missing_numerics=['Driver_Age',\n",
    " 'Vehicle_Value',\n",
    " 'Tax',\n",
    " 'Price',\n",
    " 'Vehicle_Mileage',\n",
    " 'Credit_Score',\n",
    " 'Licence_Length_Years']\n",
    "\n",
    "for i in missing_numerics:\n",
    "    training_df[i]=training_df[i].fillna(training_df[i].mean())\n",
    "    validation_df[i]=validation_df[i].fillna(validation_df[i].mean())\n",
    "    \n",
    "missing_categorics=['Marital_Status']\n",
    "\n",
    "for i in missing_categorics:\n",
    "    \n",
    "    training_df[i]=training_df[i].fillna('MI')\n",
    "    validation_df[i]=validation_df[i].fillna('MI')"
   ]
  },
  {
   "cell_type": "code",
   "execution_count": 9,
   "metadata": {},
   "outputs": [
    {
     "name": "stderr",
     "output_type": "stream",
     "text": [
      "/Library/Frameworks/Python.framework/Versions/3.7/lib/python3.7/site-packages/ipykernel_launcher.py:10: SettingWithCopyWarning: \n",
      "A value is trying to be set on a copy of a slice from a DataFrame.\n",
      "Try using .loc[row_indexer,col_indexer] = value instead\n",
      "\n",
      "See the caveats in the documentation: http://pandas.pydata.org/pandas-docs/stable/indexing.html#indexing-view-versus-copy\n",
      "  # Remove the CWD from sys.path while we load stuff.\n",
      "/Library/Frameworks/Python.framework/Versions/3.7/lib/python3.7/site-packages/ipykernel_launcher.py:11: SettingWithCopyWarning: \n",
      "A value is trying to be set on a copy of a slice from a DataFrame.\n",
      "Try using .loc[row_indexer,col_indexer] = value instead\n",
      "\n",
      "See the caveats in the documentation: http://pandas.pydata.org/pandas-docs/stable/indexing.html#indexing-view-versus-copy\n",
      "  # This is added back by InteractiveShellApp.init_path()\n",
      "/Library/Frameworks/Python.framework/Versions/3.7/lib/python3.7/site-packages/ipykernel_launcher.py:12: SettingWithCopyWarning: \n",
      "A value is trying to be set on a copy of a slice from a DataFrame.\n",
      "Try using .loc[row_indexer,col_indexer] = value instead\n",
      "\n",
      "See the caveats in the documentation: http://pandas.pydata.org/pandas-docs/stable/indexing.html#indexing-view-versus-copy\n",
      "  if sys.path[0] == '':\n",
      "/Library/Frameworks/Python.framework/Versions/3.7/lib/python3.7/site-packages/ipykernel_launcher.py:13: SettingWithCopyWarning: \n",
      "A value is trying to be set on a copy of a slice from a DataFrame.\n",
      "Try using .loc[row_indexer,col_indexer] = value instead\n",
      "\n",
      "See the caveats in the documentation: http://pandas.pydata.org/pandas-docs/stable/indexing.html#indexing-view-versus-copy\n",
      "  del sys.path[0]\n",
      "/Library/Frameworks/Python.framework/Versions/3.7/lib/python3.7/site-packages/ipykernel_launcher.py:16: SettingWithCopyWarning: \n",
      "A value is trying to be set on a copy of a slice from a DataFrame.\n",
      "Try using .loc[row_indexer,col_indexer] = value instead\n",
      "\n",
      "See the caveats in the documentation: http://pandas.pydata.org/pandas-docs/stable/indexing.html#indexing-view-versus-copy\n",
      "  app.launch_new_instance()\n",
      "/Library/Frameworks/Python.framework/Versions/3.7/lib/python3.7/site-packages/ipykernel_launcher.py:17: SettingWithCopyWarning: \n",
      "A value is trying to be set on a copy of a slice from a DataFrame.\n",
      "Try using .loc[row_indexer,col_indexer] = value instead\n",
      "\n",
      "See the caveats in the documentation: http://pandas.pydata.org/pandas-docs/stable/indexing.html#indexing-view-versus-copy\n"
     ]
    }
   ],
   "source": [
    "# Feature Engineering\n",
    "\n",
    "def feature_engineering(df):\n",
    "    \n",
    "    # Year Licence obtained\n",
    "    # Partitioned features\n",
    "    # Average Credit score per licence length\n",
    "\n",
    "    # date columns\n",
    "    df['Year']=pd.to_datetime(df['Date']).dt.year\n",
    "    df['Month']=pd.to_datetime(df['Date']).dt.month_name()\n",
    "    df['Day']=pd.to_datetime(df['Date']).dt.day_name()\n",
    "    df['Year_Month']=pd.to_datetime(df['Date']).dt.year.astype(str)+pd.to_datetime(df['Date']).dt.month.astype(str).str.zfill(2)\n",
    "\n",
    "    # age_licence_obtained\n",
    "    df['age_licence_obtained']=round(df['Driver_Age']-df['Licence_Length_Years'],2)\n",
    "    df['per_life_driving']=round(df['Licence_Length_Years']/df['Driver_Age'],2)\n",
    "    \n",
    "    return df\n",
    "\n",
    "training_df=feature_engineering(training_df)\n",
    "validation_df=feature_engineering(validation_df)\n"
   ]
  },
  {
   "cell_type": "code",
   "execution_count": 10,
   "metadata": {},
   "outputs": [
    {
     "name": "stderr",
     "output_type": "stream",
     "text": [
      "/Library/Frameworks/Python.framework/Versions/3.7/lib/python3.7/site-packages/ipykernel_launcher.py:7: SettingWithCopyWarning: \n",
      "A value is trying to be set on a copy of a slice from a DataFrame.\n",
      "Try using .loc[row_indexer,col_indexer] = value instead\n",
      "\n",
      "See the caveats in the documentation: http://pandas.pydata.org/pandas-docs/stable/indexing.html#indexing-view-versus-copy\n",
      "  import sys\n",
      "/Library/Frameworks/Python.framework/Versions/3.7/lib/python3.7/site-packages/ipykernel_launcher.py:10: SettingWithCopyWarning: \n",
      "A value is trying to be set on a copy of a slice from a DataFrame.\n",
      "Try using .loc[row_indexer,col_indexer] = value instead\n",
      "\n",
      "See the caveats in the documentation: http://pandas.pydata.org/pandas-docs/stable/indexing.html#indexing-view-versus-copy\n",
      "  # Remove the CWD from sys.path while we load stuff.\n"
     ]
    }
   ],
   "source": [
    "# categoric cols\n",
    "cat_cols=['Marital_Status']\n",
    "\n",
    "# one hot encoding\n",
    "for i in cat_cols:\n",
    "    for j in training_df[i].unique():\n",
    "        training_df[str(i)+'_'+str(j)]=np.where(training_df[i].astype(str)==j,1,0)\n",
    "        \n",
    "    for k in validation_df[i].unique():\n",
    "        validation_df[str(i)+'_'+str(k)]=np.where(validation_df[i].astype(str)==k,1,0)"
   ]
  },
  {
   "cell_type": "code",
   "execution_count": 11,
   "metadata": {},
   "outputs": [
    {
     "name": "stderr",
     "output_type": "stream",
     "text": [
      "/Library/Frameworks/Python.framework/Versions/3.7/lib/python3.7/site-packages/ipykernel_launcher.py:13: SettingWithCopyWarning: \n",
      "A value is trying to be set on a copy of a slice from a DataFrame.\n",
      "Try using .loc[row_indexer,col_indexer] = value instead\n",
      "\n",
      "See the caveats in the documentation: http://pandas.pydata.org/pandas-docs/stable/indexing.html#indexing-view-versus-copy\n",
      "  del sys.path[0]\n",
      "/Library/Frameworks/Python.framework/Versions/3.7/lib/python3.7/site-packages/ipykernel_launcher.py:14: SettingWithCopyWarning: \n",
      "A value is trying to be set on a copy of a slice from a DataFrame.\n",
      "Try using .loc[row_indexer,col_indexer] = value instead\n",
      "\n",
      "See the caveats in the documentation: http://pandas.pydata.org/pandas-docs/stable/indexing.html#indexing-view-versus-copy\n",
      "  \n",
      "/Library/Frameworks/Python.framework/Versions/3.7/lib/python3.7/site-packages/ipykernel_launcher.py:17: SettingWithCopyWarning: \n",
      "A value is trying to be set on a copy of a slice from a DataFrame.\n",
      "Try using .loc[row_indexer,col_indexer] = value instead\n",
      "\n",
      "See the caveats in the documentation: http://pandas.pydata.org/pandas-docs/stable/indexing.html#indexing-view-versus-copy\n",
      "/Library/Frameworks/Python.framework/Versions/3.7/lib/python3.7/site-packages/ipykernel_launcher.py:18: SettingWithCopyWarning: \n",
      "A value is trying to be set on a copy of a slice from a DataFrame.\n",
      "Try using .loc[row_indexer,col_indexer] = value instead\n",
      "\n",
      "See the caveats in the documentation: http://pandas.pydata.org/pandas-docs/stable/indexing.html#indexing-view-versus-copy\n"
     ]
    }
   ],
   "source": [
    "# response mean encoding\n",
    "mean_cols=['Year_Month', 'Day']\n",
    "\n",
    "def mean_encoder(training_df, validation_df, col, response):\n",
    "\n",
    "    \"\"\" function to mean encode categorical features \n",
    "        any missing values are imputed with mode \"\"\"\n",
    "\n",
    "    # Create dictionary\n",
    "    mean_encoding=training_df.groupby(col)[response].mean().to_dict()\n",
    "\n",
    "    # Apply to train\n",
    "    training_df[col+'_ME']=training_df[col].replace(mean_encoding)\n",
    "    training_df[col+'_ME']=training_df[col+'_ME'].fillna(training_df[col+'_ME'].mode()[0])\n",
    "\n",
    "    # Apply to valid\n",
    "    validation_df[col+'_ME']=validation_df[col].replace(mean_encoding)\n",
    "    validation_df[col+'_ME']=validation_df[col+'_ME'].fillna(validation_df[col+'_ME'].mode()[0])        \n",
    "\n",
    "for i in mean_cols:\n",
    "    mean_encoder(training_df, validation_df, i, 'Sale')"
   ]
  },
  {
   "cell_type": "code",
   "execution_count": 12,
   "metadata": {},
   "outputs": [],
   "source": [
    "# Correlated Cols"
   ]
  },
  {
   "cell_type": "markdown",
   "metadata": {},
   "source": [
    "# Visualisation"
   ]
  },
  {
   "cell_type": "code",
   "execution_count": 13,
   "metadata": {},
   "outputs": [],
   "source": [
    "# def plot_one_ways(i, diff_band, exposure, obs, target_name, width=0.5):\n",
    "    \n",
    "#     \"\"\"\n",
    "#     function to create one way plots\n",
    "#     - diff_band: the x co-ordinates for plots\n",
    "#     - exposure: number of rows per diff_band grouping\n",
    "#     - width: width of columns predefined as 0.5\n",
    "#     - target_name: response to plot as line\n",
    "#     \"\"\"\n",
    "    \n",
    "#     plt.bar(diff_band, exposure, width, color='gold', label='Diff', edgecolor='k')\n",
    "#     plt.xticks(rotation=90)\n",
    "#     plt.ylim(0, max(exposure)*3)\n",
    "#     plt.ylabel('Exposure')\n",
    "#     plt.xlabel(f'{i}')\n",
    "#     plt.title(f'One Way Plot of {i}')\n",
    "\n",
    "#     # Line plot\n",
    "#     axes2 = plt.twinx()\n",
    "#     axes2.plot(diff_band, obs, color='fuchsia', marker=\"s\", markeredgecolor='black', label='Actual')\n",
    "#     axes2.set_ylabel(target_name)\n",
    "\n",
    "#     # legend and settings\n",
    "#     plt.legend(loc=\"upper left\")\n",
    "\n",
    "#     plt.show()"
   ]
  },
  {
   "cell_type": "code",
   "execution_count": 14,
   "metadata": {},
   "outputs": [],
   "source": [
    "# i='Vehicle_Value'\n",
    "# target_name='Sale'\n",
    "\n",
    "# # Plot Original\n",
    "# df[i]=df[i].fillna(-1)\n",
    "# exposure=df.groupby(i)['Exposure'].sum()\n",
    "# obs=df.groupby(i)[target_name].mean()\n",
    "# diff_band=sorted(set(df[i]))\n",
    "# plot_one_ways(i, diff_band, exposure, obs, target_name)"
   ]
  },
  {
   "cell_type": "markdown",
   "metadata": {},
   "source": [
    "# Modelling Inputs"
   ]
  },
  {
   "cell_type": "code",
   "execution_count": 15,
   "metadata": {},
   "outputs": [],
   "source": [
    "cols=['Driver_Age',\n",
    " 'Vehicle_Value',\n",
    " 'Tax',\n",
    " 'Price',\n",
    " 'Vehicle_Mileage',\n",
    " 'Credit_Score',\n",
    " 'Licence_Length_Years',\n",
    "#  'Date',\n",
    "#  'Marital_Status',\n",
    "#  'Sale',\n",
    "#  'row_num',\n",
    "#  'Exposure',\n",
    "#  'Year',\n",
    "#  'Month',\n",
    "#  'Day',\n",
    "#  'Year_Month',\n",
    " 'age_licence_obtained',\n",
    " 'per_life_driving',\n",
    " 'Marital_Status_S',\n",
    " 'Marital_Status_M',\n",
    " 'Marital_Status_D',\n",
    " 'Marital_Status_MI',\n",
    " 'Year_Month_ME',\n",
    " 'Day_ME']"
   ]
  },
  {
   "cell_type": "markdown",
   "metadata": {},
   "source": [
    "# Baseline Model"
   ]
  },
  {
   "cell_type": "code",
   "execution_count": null,
   "metadata": {},
   "outputs": [],
   "source": [
    "# add constant columns for baseline model using df original factors"
   ]
  },
  {
   "cell_type": "code",
   "execution_count": 22,
   "metadata": {},
   "outputs": [
    {
     "name": "stdout",
     "output_type": "stream",
     "text": [
      "Training Accuracy : 87.772%\n",
      "Validation Accuracy : 87.410%\n",
      "Training F1 Score: [0.78772623 0.91413122]\n",
      "Validation F1 Score: [0.78801145 0.91046156]\n"
     ]
    }
   ],
   "source": [
    "# Logistic Regression\n",
    "logistic_model=LogisticRegression(max_iter=5000)\n",
    "\n",
    "# define standard scaler\n",
    "scaler = StandardScaler()\n",
    "\n",
    "# transform train data\n",
    "train_scaled = scaler.fit_transform(training_df[cols])\n",
    "\n",
    "#Fit the model:\n",
    "logistic_model.fit(train_scaled,response_training_df)\n",
    "\n",
    "# transform valid\n",
    "valid_scaled=scaler.transform(validation_df[cols])\n",
    "\n",
    "#Make predictions on training set\n",
    "train_predictions = logistic_model.predict(train_scaled)\n",
    "valid_predictions = logistic_model.predict(valid_scaled)\n",
    "\n",
    "#Print accuracy\n",
    "accuracy = metrics.accuracy_score(train_predictions,response_training_df)\n",
    "print(\"Training Accuracy : %s\" % \"{0:.3%}\".format(accuracy))\n",
    "accuracy = metrics.accuracy_score(valid_predictions,response_validation_df)\n",
    "print(\"Validation Accuracy : %s\" % \"{0:.3%}\".format(accuracy))\n",
    "\n",
    "f1=f1_score(response_training_df, train_predictions, average=None)\n",
    "print(f'Training F1 Score: {f1}')\n",
    "f1=f1_score(response_validation_df, valid_predictions, average=None)\n",
    "print(f'Validation F1 Score: {f1}')"
   ]
  },
  {
   "cell_type": "markdown",
   "metadata": {},
   "source": [
    "# Modelling"
   ]
  },
  {
   "cell_type": "code",
   "execution_count": 23,
   "metadata": {},
   "outputs": [],
   "source": [
    "# elastic_net_model = LogisticRegression(penalty = 'elasticnet', solver = 'saga', l1_ratio = 1, max_iter=5000)\n",
    "\n",
    "# # define standard scaler\n",
    "# scaler = StandardScaler()\n",
    "\n",
    "# # transform train data\n",
    "# train_scaled = scaler.fit_transform(training_df[cols])\n",
    "\n",
    "# #Fit the model:\n",
    "# elastic_net_model.fit(train_scaled,response_training_df)\n",
    "\n",
    "# # transform valid\n",
    "# valid_scaled=scaler.transform(validation_df[cols])\n",
    "\n",
    "# # make predictions on training set:\n",
    "# predictions = elastic_net_model.predict(valid_scaled)\n",
    "\n",
    "# # print accuracy\n",
    "# accuracy = metrics.accuracy_score(predictions,response_validation_df)\n",
    "# print(\"Validation Accuracy : %s\" % \"{0:.3%}\".format(accuracy))\n",
    "\n",
    "# f1=f1_score(response_validation_df, predictions, average=None)\n",
    "# print(f'Validation F1 Score: {f1}')"
   ]
  },
  {
   "cell_type": "code",
   "execution_count": 24,
   "metadata": {},
   "outputs": [],
   "source": [
    "# # decision tree\n",
    "# tree_model = DecisionTreeClassifier()\n",
    "\n",
    "# #Fit the model:\n",
    "# tree_model.fit(training_df[cols],response_training_df)\n",
    "\n",
    "# #Make predictions on training set\n",
    "# predictions = tree_model.predict(validation_df[cols])\n",
    "\n",
    "# #Print accuracy\n",
    "# accuracy = metrics.accuracy_score(predictions,response_validation_df)\n",
    "# print(\"Validation Accuracy : %s\" % \"{0:.3%}\".format(accuracy))\n",
    "\n",
    "# f1=f1_score(response_validation_df, predictions, average=None)\n",
    "# print(f'Validation F1 Score: {f1}')"
   ]
  },
  {
   "cell_type": "code",
   "execution_count": 27,
   "metadata": {},
   "outputs": [
    {
     "name": "stdout",
     "output_type": "stream",
     "text": [
      "Validation Accuracy : 88.320%\n",
      "Validation F1 Score: [0.80343319 0.91691564]\n"
     ]
    }
   ],
   "source": [
    "# Random Forest\n",
    "rf_model = RandomForestClassifier() # n_estimators=100,min_samples_split=25, max_depth=7, max_features=2\n",
    "\n",
    "#Fit the model\n",
    "rf_model.fit(training_df[cols],response_training_df)\n",
    "\n",
    "#Make predictions on training set\n",
    "predictions = rf_model.predict(validation_df[cols])\n",
    "\n",
    "#Print accuracy\n",
    "accuracy = metrics.accuracy_score(predictions,response_validation_df)\n",
    "print(\"Validation Accuracy : %s\" % \"{0:.3%}\".format(accuracy))\n",
    "\n",
    "f1=f1_score(response_validation_df, predictions, average=None)\n",
    "print(f'Validation F1 Score: {f1}')"
   ]
  },
  {
   "cell_type": "markdown",
   "metadata": {},
   "source": [
    "https://www.kaggle.com/virajbagal/eda-xgb-random-forest-parameter-tuning-hyperopt"
   ]
  },
  {
   "cell_type": "code",
   "execution_count": null,
   "metadata": {},
   "outputs": [],
   "source": []
  },
  {
   "cell_type": "code",
   "execution_count": 29,
   "metadata": {},
   "outputs": [
    {
     "name": "stdout",
     "output_type": "stream",
     "text": [
      "Validation Accuracy : 88.420%\n",
      "Validation F1 Score: [0.80485339 0.91767382]\n"
     ]
    }
   ],
   "source": [
    "# XGBoost\n",
    "xgb_model = XGBClassifier()\n",
    "\n",
    "# Fit the model\n",
    "xgb_model.fit(training_df[cols],response_training_df)\n",
    "\n",
    "#Make predictions on training set\n",
    "predictions = xgb_model.predict(validation_df[cols])\n",
    "\n",
    "#Print accuracy\n",
    "accuracy = metrics.accuracy_score(predictions,response_validation_df)\n",
    "print(\"Validation Accuracy : %s\" % \"{0:.3%}\".format(accuracy))\n",
    "\n",
    "f1=f1_score(response_validation_df, predictions, average=None)\n",
    "print(f'Validation F1 Score: {f1}')"
   ]
  },
  {
   "cell_type": "code",
   "execution_count": null,
   "metadata": {},
   "outputs": [],
   "source": [
    "# from sklearn.svm import SVC  \n",
    "\n",
    "# # Instantiate the Support Vector Classifier (SVC)\n",
    "# svc = SVC(C=1.0, random_state=1, kernel='linear', class_weight='balanced')\n",
    "\n",
    "# # define standard scaler\n",
    "# scaler = StandardScaler()\n",
    "\n",
    "# # transform train data\n",
    "# train_scaled = scaler.fit_transform(training_df[cols])\n",
    "\n",
    "# #Fit the model:\n",
    "# svc.fit(train_scaled,response_training_df)\n",
    "\n",
    "# # transform valid\n",
    "# valid_scaled=scaler.transform(validation_df[cols])\n",
    "\n",
    "# #Make predictions on training set:\n",
    "# predictions = svc.predict(valid_scaled)\n",
    "\n",
    "# #Print accuracy\n",
    "# accuracy = metrics.accuracy_score(predictions,response_validation_df)\n",
    "# print(\"Validation Accuracy : %s\" % \"{0:.3%}\".format(accuracy))\n",
    "\n",
    "# f1=f1_score(response_validation_df, predictions, average=None)\n",
    "# print(f'Validation F1 Score: {f1}')"
   ]
  },
  {
   "cell_type": "code",
   "execution_count": null,
   "metadata": {},
   "outputs": [],
   "source": [
    "# # compare standalone models for binary classification\n",
    "# from numpy import mean\n",
    "# from numpy import std\n",
    "# from sklearn.datasets import make_classification\n",
    "# from sklearn.model_selection import cross_val_score\n",
    "# from sklearn.model_selection import RepeatedStratifiedKFold\n",
    "# from sklearn.linear_model import LogisticRegression\n",
    "# from sklearn.neighbors import KNeighborsClassifier\n",
    "# from sklearn.tree import DecisionTreeClassifier\n",
    "# from sklearn.svm import SVC\n",
    "# from sklearn.naive_bayes import GaussianNB\n",
    "# from matplotlib import pyplot\n",
    " \n",
    "# # get the dataset\n",
    "# # def get_dataset():\n",
    "# # \tX, y = make_classification(n_samples=1000, n_features=20, n_informative=15, n_redundant=5, random_state=1)\n",
    "# # \treturn X, y\n",
    "\n",
    "# X=training_df[cols]\n",
    "# y=response_training_df\n",
    "\n",
    "# # get a list of models to evaluate\n",
    "# def get_models():\n",
    "#     models = dict()\n",
    "#     models['lr'] = LogisticRegression()\n",
    "#     models['knn'] = KNeighborsClassifier()\n",
    "#     models['cart'] = DecisionTreeClassifier()\n",
    "# #     models['svm'] = SVC()\n",
    "#     models['bayes'] = GaussianNB()\n",
    "#     models['rforest'] = RandomForestClassifier()\n",
    "#     models['xgb'] = XGBClassifier()\n",
    "#     return models\n",
    " \n",
    "# # evaluate a given model using cross-validation\n",
    "# def evaluate_model(model, X, y):\n",
    "#     cv = RepeatedStratifiedKFold(n_splits=10, n_repeats=3, random_state=1)\n",
    "#     scores = cross_val_score(model, X, y, scoring='f1', cv=cv, n_jobs=-1, error_score='raise')\n",
    "#     return scores\n",
    " \n",
    "# # get the models to evaluate\n",
    "# models = get_models()\n",
    "# # evaluate the models and store results\n",
    "# results, names = list(), list()\n",
    "# for name, model in models.items():\n",
    "#     scores = evaluate_model(model, X, y)\n",
    "#     results.append(scores)\n",
    "#     names.append(name)\n",
    "#     print('>%s %.3f (%.3f)' % (name, mean(scores), std(scores)))\n",
    "\n",
    "# # plot model performance for comparison\n",
    "# pyplot.boxplot(results, labels=names, showmeans=True)\n",
    "# pyplot.show()"
   ]
  },
  {
   "cell_type": "markdown",
   "metadata": {},
   "source": [
    "# Stacking"
   ]
  },
  {
   "cell_type": "code",
   "execution_count": 36,
   "metadata": {},
   "outputs": [
    {
     "name": "stdout",
     "output_type": "stream",
     "text": [
      "lr training: 0.911 0.004\n",
      "lr valid: 0.906 0.009\n",
      "rforest training: 0.92 0.005\n",
      "rforest valid: 0.914 0.009\n",
      "xgb training: 0.92 0.002\n",
      "xgb valid: 0.911 0.006\n",
      "lgbm training: 0.923 0.004\n",
      "lgbm valid: 0.914 0.007\n",
      "stacking training: 0.922 0.004\n",
      "stacking valid: 0.916 0.007\n"
     ]
    }
   ],
   "source": [
    "# inputs\n",
    "X=training_df[cols]\n",
    "y=response_training_df\n",
    "X_valid=validation_df[cols]\n",
    "y_valid=response_validation_df\n",
    "\n",
    "# get a stacking ensemble of models\n",
    "def get_stacking():\n",
    "    \n",
    "    # define the base models\n",
    "    level0 = list()\n",
    "#     level0.append(('lr', LogisticRegression()))\n",
    "#     level0.append(('knn', KNeighborsClassifier()))\n",
    "#     level0.append(('cart', DecisionTreeClassifier()))\n",
    "#     level0.append(('svm', SVC()))\n",
    "#     level0.append(('bayes', GaussianNB()))\n",
    "    level0.append(('rforest', RandomForestClassifier()))\n",
    "    level0.append(('xgb', XGBClassifier()))\n",
    "    level0.append(('lgbm', LGBMClassifier()))    \n",
    "    \n",
    "    # define meta learner model\n",
    "    level1 = LogisticRegression()\n",
    "    \n",
    "    # define the stacking ensemble\n",
    "    model = StackingClassifier(estimators=level0, final_estimator=level1, cv=5)\n",
    "    return model\n",
    " \n",
    "# get a list of models to evaluate\n",
    "def get_models():\n",
    "    models = dict()\n",
    "    models['lr'] = LogisticRegression()\n",
    "#     models['knn'] = KNeighborsClassifier()\n",
    "#     models['cart'] = DecisionTreeClassifier()\n",
    "#     models['svm'] = SVC()\n",
    "#     models['bayes'] = GaussianNB()\n",
    "    models['rforest'] = RandomForestClassifier()\n",
    "    models['xgb'] = XGBClassifier()\n",
    "    models['lgbm'] = LGBMClassifier()\n",
    "#     models['lgbm'] = LGBMClassifier()\n",
    "    models['stacking'] = get_stacking()\n",
    "    return models\n",
    " \n",
    "# evaluate a give model using cross-validation\n",
    "def evaluate_model(model, X, y, X_valid, y_valid):\n",
    "    cv = RepeatedStratifiedKFold(n_splits=10, n_repeats=1, random_state=1)\n",
    "    scores = cross_val_score(model, X, y, scoring='f1', cv=cv, n_jobs=-1, error_score='raise')\n",
    "    valid_scores = cross_val_score(model, X_valid, y_valid, scoring='f1', cv=cv, n_jobs=-1, error_score='raise')\n",
    "    return scores, valid_scores\n",
    "\n",
    "# get the models to evaluate\n",
    "models = get_models()\n",
    "\n",
    "# evaluate the models and store results\n",
    "results, names = list(), list()\n",
    "valid_results, valid_names = list(), list()\n",
    "for name, model in models.items():\n",
    "    scores, valid_scores = evaluate_model(model, X, y, X_valid, y_valid)\n",
    "    results.append(scores)\n",
    "    valid_results.append(valid_scores)\n",
    "    names.append(name)\n",
    "    valid_names.append(name)\n",
    "    print(name, 'training:', round(mean(scores),3), round(std(scores),3))\n",
    "    print(name, 'valid:', round(mean(valid_scores),3), round(std(valid_scores),3))"
   ]
  },
  {
   "cell_type": "markdown",
   "metadata": {},
   "source": [
    "# Review Performance"
   ]
  },
  {
   "cell_type": "code",
   "execution_count": 37,
   "metadata": {},
   "outputs": [
    {
     "data": {
      "image/png": "[encoded data removed]",
      "text/plain": [
       "<Figure size 432x288 with 1 Axes>"
      ]
     },
     "metadata": {
      "needs_background": "light"
     },
     "output_type": "display_data"
    },
    {
     "data": {
      "image/png": "[encoded data removed]",
      "text/plain": [
       "<Figure size 432x288 with 1 Axes>"
      ]
     },
     "metadata": {
      "needs_background": "light"
     },
     "output_type": "display_data"
    }
   ],
   "source": [
    "# plot model performance for comparison\n",
    "pyplot.boxplot(results, labels=names, showmeans=True)\n",
    "pyplot.show()\n",
    "\n",
    "# plot model performance for comparison\n",
    "pyplot.boxplot(valid_results, labels=valid_names, showmeans=True)\n",
    "pyplot.show()"
   ]
  },
  {
   "cell_type": "markdown",
   "metadata": {},
   "source": [
    "# Conclusions"
   ]
  },
  {
   "cell_type": "code",
   "execution_count": 39,
   "metadata": {},
   "outputs": [
    {
     "name": "stdout",
     "output_type": "stream",
     "text": [
      "lr LogisticRegression(C=1.0, class_weight=None, dual=False, fit_intercept=True,\n",
      "                   intercept_scaling=1, l1_ratio=None, max_iter=100,\n",
      "                   multi_class='auto', n_jobs=None, penalty='l2',\n",
      "                   random_state=None, solver='lbfgs', tol=0.0001, verbose=0,\n",
      "                   warm_start=False)\n",
      "rforest RandomForestClassifier(bootstrap=True, ccp_alpha=0.0, class_weight=None,\n",
      "                       criterion='gini', max_depth=None, max_features='auto',\n",
      "                       max_leaf_nodes=None, max_samples=None,\n",
      "                       min_impurity_decrease=0.0, min_impurity_split=None,\n",
      "                       min_samples_leaf=1, min_samples_split=2,\n",
      "                       min_weight_fraction_leaf=0.0, n_estimators=100,\n",
      "                       n_jobs=None, oob_score=False, random_state=None,\n",
      "                       verbose=0, warm_start=False)\n",
      "xgb XGBClassifier(base_score=None, booster=None, colsample_bylevel=None,\n",
      "              colsample_bynode=None, colsample_bytree=None, gamma=None,\n",
      "              gpu_id=None, importance_type='gain', interaction_constraints=None,\n",
      "              learning_rate=None, max_delta_step=None, max_depth=None,\n",
      "              min_child_weight=None, missing=nan, monotone_constraints=None,\n",
      "              n_estimators=100, n_jobs=None, num_parallel_tree=None,\n",
      "              objective='binary:logistic', random_state=None, reg_alpha=None,\n",
      "              reg_lambda=None, scale_pos_weight=None, subsample=None,\n",
      "              tree_method=None, validate_parameters=None, verbosity=None)\n",
      "lgbm LGBMClassifier(boosting_type='gbdt', class_weight=None, colsample_bytree=1.0,\n",
      "               importance_type='split', learning_rate=0.1, max_depth=-1,\n",
      "               min_child_samples=20, min_child_weight=0.001, min_split_gain=0.0,\n",
      "               n_estimators=100, n_jobs=-1, num_leaves=31, objective=None,\n",
      "               random_state=None, reg_alpha=0.0, reg_lambda=0.0, silent=True,\n",
      "               subsample=1.0, subsample_for_bin=200000, subsample_freq=0)\n",
      "stacking StackingClassifier(cv=5,\n",
      "                   estimators=[('rforest',\n",
      "                                RandomForestClassifier(bootstrap=True,\n",
      "                                                       ccp_alpha=0.0,\n",
      "                                                       class_weight=None,\n",
      "                                                       criterion='gini',\n",
      "                                                       max_depth=None,\n",
      "                                                       max_features='auto',\n",
      "                                                       max_leaf_nodes=None,\n",
      "                                                       max_samples=None,\n",
      "                                                       min_impurity_decrease=0.0,\n",
      "                                                       min_impurity_split=None,\n",
      "                                                       min_samples_leaf=1,\n",
      "                                                       min_samples_split=2,\n",
      "                                                       min_weight_fraction_leaf=0.0,\n",
      "                                                       n_estimators=100,\n",
      "                                                       n_jobs=No...\n",
      "                                               subsample_for_bin=200000,\n",
      "                                               subsample_freq=0))],\n",
      "                   final_estimator=LogisticRegression(C=1.0, class_weight=None,\n",
      "                                                      dual=False,\n",
      "                                                      fit_intercept=True,\n",
      "                                                      intercept_scaling=1,\n",
      "                                                      l1_ratio=None,\n",
      "                                                      max_iter=100,\n",
      "                                                      multi_class='auto',\n",
      "                                                      n_jobs=None, penalty='l2',\n",
      "                                                      random_state=None,\n",
      "                                                      solver='lbfgs',\n",
      "                                                      tol=0.0001, verbose=0,\n",
      "                                                      warm_start=False),\n",
      "                   n_jobs=None, passthrough=False, stack_method='auto',\n",
      "                   verbose=0)\n"
     ]
    }
   ],
   "source": [
    "for name, model in models.items():\n",
    "    print(name, model)"
   ]
  },
  {
   "cell_type": "code",
   "execution_count": null,
   "metadata": {},
   "outputs": [],
   "source": [
    "# add training validation and test\n",
    "# what is missing?\n",
    "# vehicle value at new / vehicle value when bought\n",
    "# claims history\n",
    "# occupation\n",
    "# geographical factors\n",
    "# exposure period\n",
    "# telematics\n",
    "# excess\n",
    "# gender\n",
    "# Age\n",
    "# id column / identifier\n",
    "# time of quote\n",
    "# difference in live data vs modelled data\n",
    "# selection biases\n",
    "# which features can be used for modelling based on protected characteristics?\n",
    "# are there any duplicaste quotes which we don't know about?"
   ]
  }
 ],
 "metadata": {
  "kernelspec": {
   "display_name": "Python 3",
   "language": "python",
   "name": "python3"
  },
  "language_info": {
   "codemirror_mode": {
    "name": "ipython",
    "version": 3
   },
   "file_extension": ".py",
   "mimetype": "text/x-python",
   "name": "python",
   "nbconvert_exporter": "python",
   "pygments_lexer": "ipython3",
   "version": "3.7.0"
  }
 },
 "nbformat": 4,
 "nbformat_minor": 2
}
