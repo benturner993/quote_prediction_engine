{
 "cells": [
  {
   "cell_type": "markdown",
   "metadata": {},
   "source": [
    "In this notebook, I aim to answer:\n",
    "\n",
    "- Data exploration – What are the most interesting features of the data set? What have you considered and why have you made the decisions you have done?\n",
    "- Modelling – What process did you follow when modelling sales?  How have you designed your model and what did you account for?\n",
    "- Conclusions – What are your main findings? How might you use those insights, or your model, to improve Hastings’ pricing? What else would it have been useful to know?"
   ]
  },
  {
   "cell_type": "code",
   "execution_count": 20,
   "metadata": {},
   "outputs": [],
   "source": [
    "import pandas as pd\n",
    "import numpy as np\n",
    "import matplotlib.pyplot as plt\n",
    "from sklearn.model_selection import train_test_split\n",
    "from sklearn.metrics import confusion_matrix, accuracy_score\n",
    "plt.rcParams[\"figure.figsize\"] = (10,10)"
   ]
  },
  {
   "cell_type": "code",
   "execution_count": 2,
   "metadata": {},
   "outputs": [],
   "source": [
    "df=pd.read_csv('data.csv')\n",
    "df.head(3)"
   ]
  },
  {
   "cell_type": "markdown",
   "metadata": {},
   "source": [
    "# Create Training / Test and Holdout"
   ]
  },
  {
   "cell_type": "code",
   "execution_count": 25,
   "metadata": {},
   "outputs": [],
   "source": [
    "# define training / validation \n",
    "training_df, validation_df, response_training_df, response_validation_df = train_test_split(df.drop(['Sale'], axis=1), df['Sale'], test_size=0.2, random_state=1)"
   ]
  },
  {
   "cell_type": "code",
   "execution_count": 39,
   "metadata": {},
   "outputs": [
    {
     "name": "stdout",
     "output_type": "stream",
     "text": [
      "Dataset Null Accuracy Score: 0.30202\n",
      "Training Null Accuracy Score: 0.299975\n",
      "Test Null Accuracy Score: 0.3102\n"
     ]
    }
   ],
   "source": [
    "# Null Accuracy Score in dataset, training and test\n",
    "lst = [0] * len(df['Sale'])\n",
    "print('Dataset Null Accuracy Score:', accuracy_score(df['Sale'],pd.Series(lst)))\n",
    "\n",
    "lst = [0] * len(response_training_df)\n",
    "print(f'Training Null Accuracy Score: {accuracy_score(response_training_df, pd.Series(lst))}')\n",
    "\n",
    "lst = [0] * len(response_validation_df)\n",
    "print(f'Test Null Accuracy Score: {accuracy_score(response_validation_df, pd.Series(lst))}')"
   ]
  },
  {
   "cell_type": "markdown",
   "metadata": {},
   "source": [
    "# EDA"
   ]
  },
  {
   "cell_type": "code",
   "execution_count": 4,
   "metadata": {},
   "outputs": [],
   "source": [
    "# add id col\n",
    "df['row_num'] = np.arange(len(df))\n",
    "df['Exposure'] = 1"
   ]
  },
  {
   "cell_type": "code",
   "execution_count": 5,
   "metadata": {},
   "outputs": [
    {
     "name": "stdout",
     "output_type": "stream",
     "text": [
      "(50000, 12)\n",
      "(50000, 12)\n"
     ]
    }
   ],
   "source": [
    "# duplicates\n",
    "print(df.shape)\n",
    "print(df.drop_duplicates().shape)"
   ]
  },
  {
   "cell_type": "code",
   "execution_count": 6,
   "metadata": {},
   "outputs": [],
   "source": [
    "# missing\n",
    "df['Marital_Status']=df['Marital_Status'].fillna('MI')"
   ]
  },
  {
   "cell_type": "code",
   "execution_count": 7,
   "metadata": {},
   "outputs": [],
   "source": [
    "# Feature Engineering\n",
    "df['Year']=pd.to_datetime(df['Date']).dt.year\n",
    "df['Month']=pd.to_datetime(df['Date']).dt.month_name()\n",
    "df['Day']=pd.to_datetime(df['Date']).dt.day_name()\n",
    "df['Year_Month']=pd.to_datetime(df['Date']).dt.year.astype(str)+pd.to_datetime(df['Date']).dt.month.astype(str).str.zfill(2)"
   ]
  },
  {
   "cell_type": "code",
   "execution_count": 8,
   "metadata": {},
   "outputs": [],
   "source": [
    "# categoric cols\n",
    "cat_cols=['Day',\n",
    "'Marital_Status']\n",
    "\n",
    "# one hot encoding\n",
    "for i in cat_cols:\n",
    "    for j in df[i].unique():\n",
    "        df[i+'_'+j]=np.where(df[i]==j,1,0)"
   ]
  },
  {
   "cell_type": "markdown",
   "metadata": {},
   "source": [
    "# Correlated Cols"
   ]
  },
  {
   "cell_type": "code",
   "execution_count": null,
   "metadata": {},
   "outputs": [],
   "source": []
  },
  {
   "cell_type": "code",
   "execution_count": 10,
   "metadata": {},
   "outputs": [
    {
     "data": {
      "text/html": [
       "<div>\n",
       "<style scoped>\n",
       "    .dataframe tbody tr th:only-of-type {\n",
       "        vertical-align: middle;\n",
       "    }\n",
       "\n",
       "    .dataframe tbody tr th {\n",
       "        vertical-align: top;\n",
       "    }\n",
       "\n",
       "    .dataframe thead th {\n",
       "        text-align: right;\n",
       "    }\n",
       "</style>\n",
       "<table border=\"1\" class=\"dataframe\">\n",
       "  <thead>\n",
       "    <tr style=\"text-align: right;\">\n",
       "      <th></th>\n",
       "      <th>Driver_Age</th>\n",
       "      <th>Vehicle_Value</th>\n",
       "      <th>Tax</th>\n",
       "      <th>Price</th>\n",
       "      <th>Vehicle_Mileage</th>\n",
       "      <th>Credit_Score</th>\n",
       "      <th>Licence_Length_Years</th>\n",
       "      <th>Date</th>\n",
       "      <th>Marital_Status</th>\n",
       "      <th>Sale</th>\n",
       "      <th>...</th>\n",
       "      <th>Day_Saturday</th>\n",
       "      <th>Day_Friday</th>\n",
       "      <th>Day_Thursday</th>\n",
       "      <th>Day_Monday</th>\n",
       "      <th>Day_Tuesday</th>\n",
       "      <th>Day_Wednesday</th>\n",
       "      <th>Marital_Status_M</th>\n",
       "      <th>Marital_Status_S</th>\n",
       "      <th>Marital_Status_D</th>\n",
       "      <th>Marital_Status_MI</th>\n",
       "    </tr>\n",
       "  </thead>\n",
       "  <tbody>\n",
       "    <tr>\n",
       "      <th>0</th>\n",
       "      <td>48.0</td>\n",
       "      <td>7000.0</td>\n",
       "      <td>41.961971</td>\n",
       "      <td>419.619709</td>\n",
       "      <td>7000.0</td>\n",
       "      <td>366.105677</td>\n",
       "      <td>8.711803</td>\n",
       "      <td>29/05/2016</td>\n",
       "      <td>M</td>\n",
       "      <td>0</td>\n",
       "      <td>...</td>\n",
       "      <td>0</td>\n",
       "      <td>0</td>\n",
       "      <td>0</td>\n",
       "      <td>0</td>\n",
       "      <td>0</td>\n",
       "      <td>0</td>\n",
       "      <td>1</td>\n",
       "      <td>0</td>\n",
       "      <td>0</td>\n",
       "      <td>0</td>\n",
       "    </tr>\n",
       "    <tr>\n",
       "      <th>1</th>\n",
       "      <td>32.0</td>\n",
       "      <td>8000.0</td>\n",
       "      <td>53.448931</td>\n",
       "      <td>534.489312</td>\n",
       "      <td>6000.0</td>\n",
       "      <td>306.560408</td>\n",
       "      <td>8.754815</td>\n",
       "      <td>03/07/2015</td>\n",
       "      <td>S</td>\n",
       "      <td>0</td>\n",
       "      <td>...</td>\n",
       "      <td>1</td>\n",
       "      <td>0</td>\n",
       "      <td>0</td>\n",
       "      <td>0</td>\n",
       "      <td>0</td>\n",
       "      <td>0</td>\n",
       "      <td>0</td>\n",
       "      <td>1</td>\n",
       "      <td>0</td>\n",
       "      <td>0</td>\n",
       "    </tr>\n",
       "    <tr>\n",
       "      <th>2</th>\n",
       "      <td>32.0</td>\n",
       "      <td>7000.0</td>\n",
       "      <td>48.042838</td>\n",
       "      <td>480.428376</td>\n",
       "      <td>6000.0</td>\n",
       "      <td>430.070380</td>\n",
       "      <td>6.942515</td>\n",
       "      <td>04/10/2015</td>\n",
       "      <td>M</td>\n",
       "      <td>0</td>\n",
       "      <td>...</td>\n",
       "      <td>0</td>\n",
       "      <td>1</td>\n",
       "      <td>0</td>\n",
       "      <td>0</td>\n",
       "      <td>0</td>\n",
       "      <td>0</td>\n",
       "      <td>1</td>\n",
       "      <td>0</td>\n",
       "      <td>0</td>\n",
       "      <td>0</td>\n",
       "    </tr>\n",
       "  </tbody>\n",
       "</table>\n",
       "<p>3 rows × 27 columns</p>\n",
       "</div>"
      ],
      "text/plain": [
       "   Driver_Age  Vehicle_Value        Tax       Price  Vehicle_Mileage  \\\n",
       "0        48.0         7000.0  41.961971  419.619709           7000.0   \n",
       "1        32.0         8000.0  53.448931  534.489312           6000.0   \n",
       "2        32.0         7000.0  48.042838  480.428376           6000.0   \n",
       "\n",
       "   Credit_Score  Licence_Length_Years        Date Marital_Status  Sale  ...  \\\n",
       "0    366.105677              8.711803  29/05/2016              M     0  ...   \n",
       "1    306.560408              8.754815  03/07/2015              S     0  ...   \n",
       "2    430.070380              6.942515  04/10/2015              M     0  ...   \n",
       "\n",
       "   Day_Saturday  Day_Friday  Day_Thursday Day_Monday Day_Tuesday  \\\n",
       "0             0           0             0          0           0   \n",
       "1             1           0             0          0           0   \n",
       "2             0           1             0          0           0   \n",
       "\n",
       "  Day_Wednesday  Marital_Status_M  Marital_Status_S  Marital_Status_D  \\\n",
       "0             0                 1                 0                 0   \n",
       "1             0                 0                 1                 0   \n",
       "2             0                 1                 0                 0   \n",
       "\n",
       "   Marital_Status_MI  \n",
       "0                  0  \n",
       "1                  0  \n",
       "2                  0  \n",
       "\n",
       "[3 rows x 27 columns]"
      ]
     },
     "execution_count": 10,
     "metadata": {},
     "output_type": "execute_result"
    }
   ],
   "source": [
    "df.head(3)"
   ]
  },
  {
   "cell_type": "markdown",
   "metadata": {},
   "source": [
    "# Visualisation"
   ]
  },
  {
   "cell_type": "code",
   "execution_count": 11,
   "metadata": {},
   "outputs": [],
   "source": [
    "def plot_one_ways(i, diff_band, exposure, obs, target_name, width=0.5):\n",
    "    \n",
    "    \"\"\"\n",
    "    function to create one way plots\n",
    "    - diff_band: the x co-ordinates for plots\n",
    "    - exposure: number of rows per diff_band grouping\n",
    "    - width: width of columns predefined as 0.5\n",
    "    - target_name: response to plot as line\n",
    "    \"\"\"\n",
    "    \n",
    "    plt.bar(diff_band, exposure, width, color='gold', label='Diff', edgecolor='k')\n",
    "    plt.xticks(rotation=90)\n",
    "    plt.ylim(0, max(exposure)*3)\n",
    "    plt.ylabel('Exposure')\n",
    "    plt.xlabel(f'{i}')\n",
    "    plt.title(f'One Way Plot of {i}')\n",
    "\n",
    "    # Line plot\n",
    "    axes2 = plt.twinx()\n",
    "    axes2.plot(diff_band, obs, color='fuchsia', marker=\"s\", markeredgecolor='black', label='Actual')\n",
    "    axes2.set_ylabel(target_name)\n",
    "\n",
    "    # legend and settings\n",
    "    plt.legend(loc=\"upper left\")\n",
    "\n",
    "    plt.show()"
   ]
  },
  {
   "cell_type": "code",
   "execution_count": 12,
   "metadata": {},
   "outputs": [
    {
     "data": {
      "image/png": "[encoded data removed]",
      "text/plain": [
       "<Figure size 432x288 with 2 Axes>"
      ]
     },
     "metadata": {
      "needs_background": "light"
     },
     "output_type": "display_data"
    }
   ],
   "source": [
    "i='Vehicle_Value'\n",
    "target_name='Sale'\n",
    "\n",
    "# Plot Original\n",
    "df[i]=df[i].fillna(-1)\n",
    "exposure=df.groupby(i)['Exposure'].sum()\n",
    "obs=df.groupby(i)[target_name].mean()\n",
    "diff_band=sorted(set(df[i]))\n",
    "plot_one_ways(i, diff_band, exposure, obs, target_name)"
   ]
  },
  {
   "cell_type": "markdown",
   "metadata": {},
   "source": [
    "# Conclusions"
   ]
  },
  {
   "cell_type": "code",
   "execution_count": 13,
   "metadata": {},
   "outputs": [],
   "source": [
    "# what is missing?\n",
    "# vehicle value at new / vehicle value when bought\n",
    "# claims history\n",
    "# occupation\n",
    "# geographical factors\n",
    "# exposure period\n",
    "# telematics\n",
    "# excess\n",
    "# gender\n",
    "# id column / identifier\n",
    "# time of quote\n",
    "# difference in live data vs modelled data\n",
    "# selection biases"
   ]
  }
 ],
 "metadata": {
  "kernelspec": {
   "display_name": "Python 3",
   "language": "python",
   "name": "python3"
  },
  "language_info": {
   "codemirror_mode": {
    "name": "ipython",
    "version": 3
   },
   "file_extension": ".py",
   "mimetype": "text/x-python",
   "name": "python",
   "nbconvert_exporter": "python",
   "pygments_lexer": "ipython3",
   "version": "3.7.0"
  }
 },
 "nbformat": 4,
 "nbformat_minor": 2
}
